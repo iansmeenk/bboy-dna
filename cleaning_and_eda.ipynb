{
 "cells": [
  {
   "cell_type": "code",
   "execution_count": 2,
   "metadata": {},
   "outputs": [],
   "source": [
    "import pandas as pd\n",
    "import re\n",
    "import spacy\n",
    "import string\n",
    "import matplotlib.pyplot as plt\n",
    "import seaborn as sns\n",
    "\n",
    "nlp = spacy.load('en_core_web_sm')\n",
    "%matplotlib inline"
   ]
  },
  {
   "cell_type": "code",
   "execution_count": 4,
   "metadata": {},
   "outputs": [],
   "source": [
    "df = pd.read_csv('data/lyrics.csv')"
   ]
  },
  {
   "cell_type": "code",
   "execution_count": 5,
   "metadata": {},
   "outputs": [],
   "source": [
    "def tokenize(raw_lyrics):\n",
    "    \n",
    "    lyrics_nopunct = re.sub(r'[^\\w\\s]', ' ', raw_lyrics)\n",
    "    clean_lyrics = lyrics_nopunct.lower().replace('\\n', ' ')\n",
    "        \n",
    "    return clean_lyrics"
   ]
  },
  {
   "cell_type": "code",
   "execution_count": 6,
   "metadata": {},
   "outputs": [
    {
     "data": {
      "text/html": [
       "<div>\n",
       "<style scoped>\n",
       "    .dataframe tbody tr th:only-of-type {\n",
       "        vertical-align: middle;\n",
       "    }\n",
       "\n",
       "    .dataframe tbody tr th {\n",
       "        vertical-align: top;\n",
       "    }\n",
       "\n",
       "    .dataframe thead th {\n",
       "        text-align: right;\n",
       "    }\n",
       "</style>\n",
       "<table border=\"1\" class=\"dataframe\">\n",
       "  <thead>\n",
       "    <tr style=\"text-align: right;\">\n",
       "      <th></th>\n",
       "      <th>index</th>\n",
       "      <th>song</th>\n",
       "      <th>year</th>\n",
       "      <th>artist</th>\n",
       "      <th>genre</th>\n",
       "      <th>lyrics</th>\n",
       "      <th>lyrics_tokenized</th>\n",
       "    </tr>\n",
       "  </thead>\n",
       "  <tbody>\n",
       "    <tr>\n",
       "      <th>0</th>\n",
       "      <td>0</td>\n",
       "      <td>ego-remix</td>\n",
       "      <td>2009</td>\n",
       "      <td>beyonce-knowles</td>\n",
       "      <td>Pop</td>\n",
       "      <td>Oh baby, how you doing?\\nYou know I'm gonna cu...</td>\n",
       "      <td>oh baby  how you doing  you know i m gonna cut...</td>\n",
       "    </tr>\n",
       "    <tr>\n",
       "      <th>1</th>\n",
       "      <td>1</td>\n",
       "      <td>then-tell-me</td>\n",
       "      <td>2009</td>\n",
       "      <td>beyonce-knowles</td>\n",
       "      <td>Pop</td>\n",
       "      <td>playin' everything so easy,\\nit's like you see...</td>\n",
       "      <td>playin  everything so easy  it s like you seem...</td>\n",
       "    </tr>\n",
       "    <tr>\n",
       "      <th>2</th>\n",
       "      <td>2</td>\n",
       "      <td>honesty</td>\n",
       "      <td>2009</td>\n",
       "      <td>beyonce-knowles</td>\n",
       "      <td>Pop</td>\n",
       "      <td>If you search\\nFor tenderness\\nIt isn't hard t...</td>\n",
       "      <td>if you search for tenderness it isn t hard to ...</td>\n",
       "    </tr>\n",
       "    <tr>\n",
       "      <th>3</th>\n",
       "      <td>3</td>\n",
       "      <td>you-are-my-rock</td>\n",
       "      <td>2009</td>\n",
       "      <td>beyonce-knowles</td>\n",
       "      <td>Pop</td>\n",
       "      <td>Oh oh oh I, oh oh oh I\\n[Verse 1:]\\nIf I wrote...</td>\n",
       "      <td>oh oh oh i  oh oh oh i  verse 1   if i wrote a...</td>\n",
       "    </tr>\n",
       "    <tr>\n",
       "      <th>4</th>\n",
       "      <td>4</td>\n",
       "      <td>black-culture</td>\n",
       "      <td>2009</td>\n",
       "      <td>beyonce-knowles</td>\n",
       "      <td>Pop</td>\n",
       "      <td>Party the people, the people the party it's po...</td>\n",
       "      <td>party the people  the people the party it s po...</td>\n",
       "    </tr>\n",
       "  </tbody>\n",
       "</table>\n",
       "</div>"
      ],
      "text/plain": [
       "   index             song  year           artist genre  \\\n",
       "0      0        ego-remix  2009  beyonce-knowles   Pop   \n",
       "1      1     then-tell-me  2009  beyonce-knowles   Pop   \n",
       "2      2          honesty  2009  beyonce-knowles   Pop   \n",
       "3      3  you-are-my-rock  2009  beyonce-knowles   Pop   \n",
       "4      4    black-culture  2009  beyonce-knowles   Pop   \n",
       "\n",
       "                                              lyrics  \\\n",
       "0  Oh baby, how you doing?\\nYou know I'm gonna cu...   \n",
       "1  playin' everything so easy,\\nit's like you see...   \n",
       "2  If you search\\nFor tenderness\\nIt isn't hard t...   \n",
       "3  Oh oh oh I, oh oh oh I\\n[Verse 1:]\\nIf I wrote...   \n",
       "4  Party the people, the people the party it's po...   \n",
       "\n",
       "                                    lyrics_tokenized  \n",
       "0  oh baby  how you doing  you know i m gonna cut...  \n",
       "1  playin  everything so easy  it s like you seem...  \n",
       "2  if you search for tenderness it isn t hard to ...  \n",
       "3  oh oh oh i  oh oh oh i  verse 1   if i wrote a...  \n",
       "4  party the people  the people the party it s po...  "
      ]
     },
     "execution_count": 6,
     "metadata": {},
     "output_type": "execute_result"
    }
   ],
   "source": [
    "df['lyrics_tokenized'] = df['lyrics'].astype(str).apply(tokenize)\n",
    "df.head()"
   ]
  },
  {
   "cell_type": "code",
   "execution_count": 7,
   "metadata": {},
   "outputs": [],
   "source": [
    "df['word_count'] = df['lyrics_tokenized'].apply(lambda x: len(x.split()))"
   ]
  },
  {
   "cell_type": "code",
   "execution_count": 17,
   "metadata": {},
   "outputs": [
    {
     "data": {
      "image/png": "[encoded data removed]",
      "text/plain": [
       "<Figure size 864x432 with 1 Axes>"
      ]
     },
     "metadata": {},
     "output_type": "display_data"
    }
   ],
   "source": [
    "fig, ax = plt.subplots(figsize=(12,6))\n",
    "sns.countplot(df['genre'], ax=ax, order=df['genre'].value_counts().index)\n",
    "ax.set_xlabel('Genre')\n",
    "ax.set_ylabel('Number of Songs')\n",
    "ax.set_title('Genre Distribution of the Dataset')\n",
    "plt.savefig('genre_distribtution.png')"
   ]
  },
  {
   "cell_type": "code",
   "execution_count": 20,
   "metadata": {},
   "outputs": [
    {
     "data": {
      "text/plain": [
       "<matplotlib.axes._subplots.AxesSubplot at 0x120987198>"
      ]
     },
     "execution_count": 20,
     "metadata": {},
     "output_type": "execute_result"
    },
    {
     "data": {
      "image/png": "[encoded data removed]",
      "text/plain": [
       "<Figure size 864x432 with 1 Axes>"
      ]
     },
     "metadata": {},
     "output_type": "display_data"
    }
   ],
   "source": [
    "fig, ax = plt.subplots(figsize=(12,6))\n",
    "sns.boxplot(x='genre', y='year', data=df)"
   ]
  },
  {
   "cell_type": "code",
   "execution_count": 8,
   "metadata": {},
   "outputs": [],
   "source": [
    "df = df.query(\"year > 1000\")"
   ]
  },
  {
   "cell_type": "code",
   "execution_count": 22,
   "metadata": {},
   "outputs": [
    {
     "data": {
      "text/plain": [
       "<matplotlib.axes._subplots.AxesSubplot at 0x120a9b080>"
      ]
     },
     "execution_count": 22,
     "metadata": {},
     "output_type": "execute_result"
    },
    {
     "data": {
      "image/png": "[encoded data removed]",
      "text/plain": [
       "<Figure size 864x432 with 1 Axes>"
      ]
     },
     "metadata": {},
     "output_type": "display_data"
    }
   ],
   "source": [
    "fig, ax = plt.subplots(figsize=(12,6))\n",
    "sns.boxplot(x='genre', y='year', data=df)"
   ]
  },
  {
   "cell_type": "code",
   "execution_count": 9,
   "metadata": {},
   "outputs": [],
   "source": [
    "df = df.query(\"year < 2020\")"
   ]
  },
  {
   "cell_type": "code",
   "execution_count": 33,
   "metadata": {},
   "outputs": [
    {
     "data": {
      "image/png": "[encoded data removed]",
      "text/plain": [
       "<Figure size 1440x576 with 1 Axes>"
      ]
     },
     "metadata": {},
     "output_type": "display_data"
    }
   ],
   "source": [
    "fig, ax = plt.subplots(figsize=(20,8))\n",
    "sns.violinplot(x='year', y='genre', data=df, ax=ax)\n",
    "ax.set_xlabel('Year')\n",
    "ax.set_ylabel('Genre')\n",
    "plt.savefig('genre_year_distribution.png')"
   ]
  },
  {
   "cell_type": "code",
   "execution_count": 15,
   "metadata": {},
   "outputs": [
    {
     "data": {
      "text/plain": [
       "Text(0.5,1,'Distribution of Word Counts')"
      ]
     },
     "execution_count": 15,
     "metadata": {},
     "output_type": "execute_result"
    },
    {
     "data": {
      "image/png": "[encoded data removed]",
      "text/plain": [
       "<Figure size 864x432 with 1 Axes>"
      ]
     },
     "metadata": {},
     "output_type": "display_data"
    }
   ],
   "source": [
    "fig, ax = plt.subplots(figsize=(12,6))\n",
    "df['word_count'].hist()\n",
    "ax.set_xlabel('Word Count')\n",
    "ax.set_ylabel('Number of Songs')\n",
    "ax.set_title('Distribution of Word Counts')"
   ]
  },
  {
   "cell_type": "code",
   "execution_count": 16,
   "metadata": {},
   "outputs": [],
   "source": [
    "df = df.query(\"word_count > 20\")"
   ]
  },
  {
   "cell_type": "code",
   "execution_count": 52,
   "metadata": {},
   "outputs": [
    {
     "data": {
      "text/html": [
       "<div>\n",
       "<style scoped>\n",
       "    .dataframe tbody tr th:only-of-type {\n",
       "        vertical-align: middle;\n",
       "    }\n",
       "\n",
       "    .dataframe tbody tr th {\n",
       "        vertical-align: top;\n",
       "    }\n",
       "\n",
       "    .dataframe thead th {\n",
       "        text-align: right;\n",
       "    }\n",
       "</style>\n",
       "<table border=\"1\" class=\"dataframe\">\n",
       "  <thead>\n",
       "    <tr style=\"text-align: right;\">\n",
       "      <th></th>\n",
       "      <th>index</th>\n",
       "      <th>song</th>\n",
       "      <th>year</th>\n",
       "      <th>artist</th>\n",
       "      <th>genre</th>\n",
       "      <th>lyrics</th>\n",
       "      <th>lyrics_tokenized</th>\n",
       "      <th>word_count</th>\n",
       "    </tr>\n",
       "  </thead>\n",
       "  <tbody>\n",
       "    <tr>\n",
       "      <th>0</th>\n",
       "      <td>0</td>\n",
       "      <td>ego-remix</td>\n",
       "      <td>2009</td>\n",
       "      <td>beyonce-knowles</td>\n",
       "      <td>Pop</td>\n",
       "      <td>Oh baby, how you doing?\\nYou know I'm gonna cu...</td>\n",
       "      <td>oh baby  how you doing  you know i m gonna cut...</td>\n",
       "      <td>472</td>\n",
       "    </tr>\n",
       "    <tr>\n",
       "      <th>1</th>\n",
       "      <td>1</td>\n",
       "      <td>then-tell-me</td>\n",
       "      <td>2009</td>\n",
       "      <td>beyonce-knowles</td>\n",
       "      <td>Pop</td>\n",
       "      <td>playin' everything so easy,\\nit's like you see...</td>\n",
       "      <td>playin  everything so easy  it s like you seem...</td>\n",
       "      <td>268</td>\n",
       "    </tr>\n",
       "    <tr>\n",
       "      <th>2</th>\n",
       "      <td>2</td>\n",
       "      <td>honesty</td>\n",
       "      <td>2009</td>\n",
       "      <td>beyonce-knowles</td>\n",
       "      <td>Pop</td>\n",
       "      <td>If you search\\nFor tenderness\\nIt isn't hard t...</td>\n",
       "      <td>if you search for tenderness it isn t hard to ...</td>\n",
       "      <td>177</td>\n",
       "    </tr>\n",
       "    <tr>\n",
       "      <th>3</th>\n",
       "      <td>3</td>\n",
       "      <td>you-are-my-rock</td>\n",
       "      <td>2009</td>\n",
       "      <td>beyonce-knowles</td>\n",
       "      <td>Pop</td>\n",
       "      <td>Oh oh oh I, oh oh oh I\\n[Verse 1:]\\nIf I wrote...</td>\n",
       "      <td>oh oh oh i  oh oh oh i  verse 1   if i wrote a...</td>\n",
       "      <td>541</td>\n",
       "    </tr>\n",
       "    <tr>\n",
       "      <th>4</th>\n",
       "      <td>4</td>\n",
       "      <td>black-culture</td>\n",
       "      <td>2009</td>\n",
       "      <td>beyonce-knowles</td>\n",
       "      <td>Pop</td>\n",
       "      <td>Party the people, the people the party it's po...</td>\n",
       "      <td>party the people  the people the party it s po...</td>\n",
       "      <td>338</td>\n",
       "    </tr>\n",
       "  </tbody>\n",
       "</table>\n",
       "</div>"
      ],
      "text/plain": [
       "   index             song  year           artist genre  \\\n",
       "0      0        ego-remix  2009  beyonce-knowles   Pop   \n",
       "1      1     then-tell-me  2009  beyonce-knowles   Pop   \n",
       "2      2          honesty  2009  beyonce-knowles   Pop   \n",
       "3      3  you-are-my-rock  2009  beyonce-knowles   Pop   \n",
       "4      4    black-culture  2009  beyonce-knowles   Pop   \n",
       "\n",
       "                                              lyrics  \\\n",
       "0  Oh baby, how you doing?\\nYou know I'm gonna cu...   \n",
       "1  playin' everything so easy,\\nit's like you see...   \n",
       "2  If you search\\nFor tenderness\\nIt isn't hard t...   \n",
       "3  Oh oh oh I, oh oh oh I\\n[Verse 1:]\\nIf I wrote...   \n",
       "4  Party the people, the people the party it's po...   \n",
       "\n",
       "                                    lyrics_tokenized  word_count  \n",
       "0  oh baby  how you doing  you know i m gonna cut...         472  \n",
       "1  playin  everything so easy  it s like you seem...         268  \n",
       "2  if you search for tenderness it isn t hard to ...         177  \n",
       "3  oh oh oh i  oh oh oh i  verse 1   if i wrote a...         541  \n",
       "4  party the people  the people the party it s po...         338  "
      ]
     },
     "execution_count": 52,
     "metadata": {},
     "output_type": "execute_result"
    }
   ],
   "source": [
    "df.head()"
   ]
  },
  {
   "cell_type": "code",
   "execution_count": 55,
   "metadata": {},
   "outputs": [
    {
     "data": {
      "text/plain": [
       "index               0\n",
       "song                1\n",
       "year                0\n",
       "artist              0\n",
       "genre               0\n",
       "lyrics              0\n",
       "lyrics_tokenized    0\n",
       "word_count          0\n",
       "dtype: int64"
      ]
     },
     "execution_count": 55,
     "metadata": {},
     "output_type": "execute_result"
    }
   ],
   "source": [
    "df.isnull().sum()"
   ]
  },
  {
   "cell_type": "code",
   "execution_count": 54,
   "metadata": {},
   "outputs": [],
   "source": [
    "df.drop('lyrics', axis=1).to_csv('data/lyrics_tokenized.csv', index=False)"
   ]
  },
  {
   "cell_type": "markdown",
   "metadata": {},
   "source": [
    "# Favorite curses!"
   ]
  },
  {
   "cell_type": "code",
   "execution_count": 17,
   "metadata": {},
   "outputs": [],
   "source": [
    "rap = df.query('genre == \"Hip-Hop\"')"
   ]
  },
  {
   "cell_type": "code",
   "execution_count": 36,
   "metadata": {},
   "outputs": [],
   "source": [
    "curses = ['bitch', 'fuck', 'damn', 'nigga', 'shit']"
   ]
  },
  {
   "cell_type": "code",
   "execution_count": 37,
   "metadata": {},
   "outputs": [],
   "source": [
    "def most_curses(df):\n",
    "    \"\"\"\n",
    "    Input is df with lyrics string and artist\n",
    "    Output is dataframe with columns:\n",
    "        artist: the artist in question\n",
    "        word_count: total word count per artist\n",
    "        columns for each curse\n",
    "    \"\"\"\n",
    "    \n",
    "    lyrics_count = df.copy().groupby(['artist', 'genre'])['word_count'].sum()\n",
    "    lyrics_full = df.copy().groupby(['artist', 'genre'])['lyrics_tokenized'].apply(lambda x: ' '.join(list(x)))\n",
    "    \n",
    "    curses_df = pd.concat([lyrics_full, lyrics_count], axis=1).reset_index()\n",
    "\n",
    "    for curse in curses:\n",
    "        curse_column = curses_df['lyrics_tokenized'].apply(lambda x: x.count(curse))\n",
    "        curses_df[curse] = curse_column * 1.0 / curses_df['word_count']\n",
    "    \n",
    "    return curses_df.drop('lyrics_tokenized', axis=1)"
   ]
  },
  {
   "cell_type": "code",
   "execution_count": 38,
   "metadata": {},
   "outputs": [
    {
     "data": {
      "text/html": [
       "<div>\n",
       "<style scoped>\n",
       "    .dataframe tbody tr th:only-of-type {\n",
       "        vertical-align: middle;\n",
       "    }\n",
       "\n",
       "    .dataframe tbody tr th {\n",
       "        vertical-align: top;\n",
       "    }\n",
       "\n",
       "    .dataframe thead th {\n",
       "        text-align: right;\n",
       "    }\n",
       "</style>\n",
       "<table border=\"1\" class=\"dataframe\">\n",
       "  <thead>\n",
       "    <tr style=\"text-align: right;\">\n",
       "      <th></th>\n",
       "      <th>artist</th>\n",
       "      <th>genre</th>\n",
       "      <th>word_count</th>\n",
       "      <th>bitch</th>\n",
       "      <th>fuck</th>\n",
       "      <th>damn</th>\n",
       "      <th>nigga</th>\n",
       "      <th>shit</th>\n",
       "    </tr>\n",
       "  </thead>\n",
       "  <tbody>\n",
       "    <tr>\n",
       "      <th>866</th>\n",
       "      <td>eminem</td>\n",
       "      <td>Hip-Hop</td>\n",
       "      <td>423053</td>\n",
       "      <td>0.002704</td>\n",
       "      <td>0.007592</td>\n",
       "      <td>0.000813</td>\n",
       "      <td>0.001789</td>\n",
       "      <td>0.004338</td>\n",
       "    </tr>\n",
       "    <tr>\n",
       "      <th>483</th>\n",
       "      <td>chris-brown</td>\n",
       "      <td>Hip-Hop</td>\n",
       "      <td>279720</td>\n",
       "      <td>0.002456</td>\n",
       "      <td>0.002932</td>\n",
       "      <td>0.000804</td>\n",
       "      <td>0.003983</td>\n",
       "      <td>0.002059</td>\n",
       "    </tr>\n",
       "    <tr>\n",
       "      <th>13</th>\n",
       "      <td>2pac</td>\n",
       "      <td>Hip-Hop</td>\n",
       "      <td>255976</td>\n",
       "      <td>0.002774</td>\n",
       "      <td>0.008712</td>\n",
       "      <td>0.000555</td>\n",
       "      <td>0.012536</td>\n",
       "      <td>0.002903</td>\n",
       "    </tr>\n",
       "    <tr>\n",
       "      <th>451</th>\n",
       "      <td>chamillionaire</td>\n",
       "      <td>Hip-Hop</td>\n",
       "      <td>242494</td>\n",
       "      <td>0.000404</td>\n",
       "      <td>0.000524</td>\n",
       "      <td>0.000507</td>\n",
       "      <td>0.004058</td>\n",
       "      <td>0.000396</td>\n",
       "    </tr>\n",
       "    <tr>\n",
       "      <th>25</th>\n",
       "      <td>50-cent</td>\n",
       "      <td>Hip-Hop</td>\n",
       "      <td>218672</td>\n",
       "      <td>0.003855</td>\n",
       "      <td>0.006151</td>\n",
       "      <td>0.000686</td>\n",
       "      <td>0.014218</td>\n",
       "      <td>0.005982</td>\n",
       "    </tr>\n",
       "    <tr>\n",
       "      <th>1003</th>\n",
       "      <td>game</td>\n",
       "      <td>Hip-Hop</td>\n",
       "      <td>209091</td>\n",
       "      <td>0.003879</td>\n",
       "      <td>0.007930</td>\n",
       "      <td>0.000493</td>\n",
       "      <td>0.015606</td>\n",
       "      <td>0.004759</td>\n",
       "    </tr>\n",
       "    <tr>\n",
       "      <th>335</th>\n",
       "      <td>bone-thugs-n-harmony</td>\n",
       "      <td>Hip-Hop</td>\n",
       "      <td>202402</td>\n",
       "      <td>0.001833</td>\n",
       "      <td>0.006369</td>\n",
       "      <td>0.000613</td>\n",
       "      <td>0.016023</td>\n",
       "      <td>0.003182</td>\n",
       "    </tr>\n",
       "    <tr>\n",
       "      <th>802</th>\n",
       "      <td>drake</td>\n",
       "      <td>Hip-Hop</td>\n",
       "      <td>196772</td>\n",
       "      <td>0.002084</td>\n",
       "      <td>0.004955</td>\n",
       "      <td>0.000828</td>\n",
       "      <td>0.006358</td>\n",
       "      <td>0.004797</td>\n",
       "    </tr>\n",
       "    <tr>\n",
       "      <th>392</th>\n",
       "      <td>busta-rhymes</td>\n",
       "      <td>Hip-Hop</td>\n",
       "      <td>184712</td>\n",
       "      <td>0.003221</td>\n",
       "      <td>0.005544</td>\n",
       "      <td>0.000254</td>\n",
       "      <td>0.014791</td>\n",
       "      <td>0.007466</td>\n",
       "    </tr>\n",
       "    <tr>\n",
       "      <th>754</th>\n",
       "      <td>dmx</td>\n",
       "      <td>Hip-Hop</td>\n",
       "      <td>170898</td>\n",
       "      <td>0.004178</td>\n",
       "      <td>0.008871</td>\n",
       "      <td>0.000527</td>\n",
       "      <td>0.016642</td>\n",
       "      <td>0.006086</td>\n",
       "    </tr>\n",
       "    <tr>\n",
       "      <th>827</th>\n",
       "      <td>e-40</td>\n",
       "      <td>Hip-Hop</td>\n",
       "      <td>161180</td>\n",
       "      <td>0.004219</td>\n",
       "      <td>0.006570</td>\n",
       "      <td>0.000869</td>\n",
       "      <td>0.009040</td>\n",
       "      <td>0.004281</td>\n",
       "    </tr>\n",
       "    <tr>\n",
       "      <th>905</th>\n",
       "      <td>fabolous</td>\n",
       "      <td>Hip-Hop</td>\n",
       "      <td>145569</td>\n",
       "      <td>0.002954</td>\n",
       "      <td>0.003455</td>\n",
       "      <td>0.000982</td>\n",
       "      <td>0.007907</td>\n",
       "      <td>0.002562</td>\n",
       "    </tr>\n",
       "    <tr>\n",
       "      <th>164</th>\n",
       "      <td>atmosphere</td>\n",
       "      <td>Hip-Hop</td>\n",
       "      <td>124799</td>\n",
       "      <td>0.000785</td>\n",
       "      <td>0.002989</td>\n",
       "      <td>0.000729</td>\n",
       "      <td>0.000088</td>\n",
       "      <td>0.001763</td>\n",
       "    </tr>\n",
       "    <tr>\n",
       "      <th>413</th>\n",
       "      <td>cam-ron</td>\n",
       "      <td>Hip-Hop</td>\n",
       "      <td>114266</td>\n",
       "      <td>0.002669</td>\n",
       "      <td>0.006511</td>\n",
       "      <td>0.001514</td>\n",
       "      <td>0.007001</td>\n",
       "      <td>0.002941</td>\n",
       "    </tr>\n",
       "    <tr>\n",
       "      <th>1031</th>\n",
       "      <td>ghostface-killah</td>\n",
       "      <td>Hip-Hop</td>\n",
       "      <td>110812</td>\n",
       "      <td>0.002148</td>\n",
       "      <td>0.005342</td>\n",
       "      <td>0.000496</td>\n",
       "      <td>0.007436</td>\n",
       "      <td>0.004187</td>\n",
       "    </tr>\n",
       "    <tr>\n",
       "      <th>886</th>\n",
       "      <td>esham</td>\n",
       "      <td>Hip-Hop</td>\n",
       "      <td>108798</td>\n",
       "      <td>0.004044</td>\n",
       "      <td>0.007905</td>\n",
       "      <td>0.000717</td>\n",
       "      <td>0.006223</td>\n",
       "      <td>0.005138</td>\n",
       "    </tr>\n",
       "    <tr>\n",
       "      <th>350</th>\n",
       "      <td>bow-wow</td>\n",
       "      <td>Hip-Hop</td>\n",
       "      <td>105175</td>\n",
       "      <td>0.001740</td>\n",
       "      <td>0.002577</td>\n",
       "      <td>0.001179</td>\n",
       "      <td>0.006827</td>\n",
       "      <td>0.002881</td>\n",
       "    </tr>\n",
       "    <tr>\n",
       "      <th>915</th>\n",
       "      <td>fat-joe</td>\n",
       "      <td>Hip-Hop</td>\n",
       "      <td>104068</td>\n",
       "      <td>0.002402</td>\n",
       "      <td>0.005381</td>\n",
       "      <td>0.000644</td>\n",
       "      <td>0.010320</td>\n",
       "      <td>0.004382</td>\n",
       "    </tr>\n",
       "    <tr>\n",
       "      <th>581</th>\n",
       "      <td>cypress-hill</td>\n",
       "      <td>Hip-Hop</td>\n",
       "      <td>102772</td>\n",
       "      <td>0.001460</td>\n",
       "      <td>0.006607</td>\n",
       "      <td>0.000584</td>\n",
       "      <td>0.004641</td>\n",
       "      <td>0.004369</td>\n",
       "    </tr>\n",
       "    <tr>\n",
       "      <th>989</th>\n",
       "      <td>future</td>\n",
       "      <td>Hip-Hop</td>\n",
       "      <td>101682</td>\n",
       "      <td>0.006845</td>\n",
       "      <td>0.008635</td>\n",
       "      <td>0.001190</td>\n",
       "      <td>0.016424</td>\n",
       "      <td>0.006137</td>\n",
       "    </tr>\n",
       "  </tbody>\n",
       "</table>\n",
       "</div>"
      ],
      "text/plain": [
       "                    artist    genre  word_count     bitch      fuck      damn  \\\n",
       "866                 eminem  Hip-Hop      423053  0.002704  0.007592  0.000813   \n",
       "483            chris-brown  Hip-Hop      279720  0.002456  0.002932  0.000804   \n",
       "13                    2pac  Hip-Hop      255976  0.002774  0.008712  0.000555   \n",
       "451         chamillionaire  Hip-Hop      242494  0.000404  0.000524  0.000507   \n",
       "25                 50-cent  Hip-Hop      218672  0.003855  0.006151  0.000686   \n",
       "1003                  game  Hip-Hop      209091  0.003879  0.007930  0.000493   \n",
       "335   bone-thugs-n-harmony  Hip-Hop      202402  0.001833  0.006369  0.000613   \n",
       "802                  drake  Hip-Hop      196772  0.002084  0.004955  0.000828   \n",
       "392           busta-rhymes  Hip-Hop      184712  0.003221  0.005544  0.000254   \n",
       "754                    dmx  Hip-Hop      170898  0.004178  0.008871  0.000527   \n",
       "827                   e-40  Hip-Hop      161180  0.004219  0.006570  0.000869   \n",
       "905               fabolous  Hip-Hop      145569  0.002954  0.003455  0.000982   \n",
       "164             atmosphere  Hip-Hop      124799  0.000785  0.002989  0.000729   \n",
       "413                cam-ron  Hip-Hop      114266  0.002669  0.006511  0.001514   \n",
       "1031      ghostface-killah  Hip-Hop      110812  0.002148  0.005342  0.000496   \n",
       "886                  esham  Hip-Hop      108798  0.004044  0.007905  0.000717   \n",
       "350                bow-wow  Hip-Hop      105175  0.001740  0.002577  0.001179   \n",
       "915                fat-joe  Hip-Hop      104068  0.002402  0.005381  0.000644   \n",
       "581           cypress-hill  Hip-Hop      102772  0.001460  0.006607  0.000584   \n",
       "989                 future  Hip-Hop      101682  0.006845  0.008635  0.001190   \n",
       "\n",
       "         nigga      shit  \n",
       "866   0.001789  0.004338  \n",
       "483   0.003983  0.002059  \n",
       "13    0.012536  0.002903  \n",
       "451   0.004058  0.000396  \n",
       "25    0.014218  0.005982  \n",
       "1003  0.015606  0.004759  \n",
       "335   0.016023  0.003182  \n",
       "802   0.006358  0.004797  \n",
       "392   0.014791  0.007466  \n",
       "754   0.016642  0.006086  \n",
       "827   0.009040  0.004281  \n",
       "905   0.007907  0.002562  \n",
       "164   0.000088  0.001763  \n",
       "413   0.007001  0.002941  \n",
       "1031  0.007436  0.004187  \n",
       "886   0.006223  0.005138  \n",
       "350   0.006827  0.002881  \n",
       "915   0.010320  0.004382  \n",
       "581   0.004641  0.004369  \n",
       "989   0.016424  0.006137  "
      ]
     },
     "execution_count": 38,
     "metadata": {},
     "output_type": "execute_result"
    }
   ],
   "source": [
    "rap_curses = most_curses(rap).sort_values('word_count', ascending=False)\n",
    "rap_curses.head(20)"
   ]
  },
  {
   "cell_type": "code",
   "execution_count": 39,
   "metadata": {},
   "outputs": [
    {
     "data": {
      "text/html": [
       "<div>\n",
       "<style scoped>\n",
       "    .dataframe tbody tr th:only-of-type {\n",
       "        vertical-align: middle;\n",
       "    }\n",
       "\n",
       "    .dataframe tbody tr th {\n",
       "        vertical-align: top;\n",
       "    }\n",
       "\n",
       "    .dataframe thead th {\n",
       "        text-align: right;\n",
       "    }\n",
       "</style>\n",
       "<table border=\"1\" class=\"dataframe\">\n",
       "  <thead>\n",
       "    <tr style=\"text-align: right;\">\n",
       "      <th></th>\n",
       "      <th>artist</th>\n",
       "      <th>word_count</th>\n",
       "      <th>curse</th>\n",
       "      <th>rate</th>\n",
       "    </tr>\n",
       "  </thead>\n",
       "  <tbody>\n",
       "    <tr>\n",
       "      <th>0</th>\n",
       "      <td>eminem</td>\n",
       "      <td>423053</td>\n",
       "      <td>bitch</td>\n",
       "      <td>0.002704</td>\n",
       "    </tr>\n",
       "    <tr>\n",
       "      <th>2180</th>\n",
       "      <td>eminem</td>\n",
       "      <td>423053</td>\n",
       "      <td>damn</td>\n",
       "      <td>0.000813</td>\n",
       "    </tr>\n",
       "    <tr>\n",
       "      <th>1090</th>\n",
       "      <td>eminem</td>\n",
       "      <td>423053</td>\n",
       "      <td>fuck</td>\n",
       "      <td>0.007592</td>\n",
       "    </tr>\n",
       "    <tr>\n",
       "      <th>3270</th>\n",
       "      <td>eminem</td>\n",
       "      <td>423053</td>\n",
       "      <td>nigga</td>\n",
       "      <td>0.001789</td>\n",
       "    </tr>\n",
       "    <tr>\n",
       "      <th>4360</th>\n",
       "      <td>eminem</td>\n",
       "      <td>423053</td>\n",
       "      <td>shit</td>\n",
       "      <td>0.004338</td>\n",
       "    </tr>\n",
       "    <tr>\n",
       "      <th>1</th>\n",
       "      <td>chris-brown</td>\n",
       "      <td>279720</td>\n",
       "      <td>bitch</td>\n",
       "      <td>0.002456</td>\n",
       "    </tr>\n",
       "    <tr>\n",
       "      <th>2181</th>\n",
       "      <td>chris-brown</td>\n",
       "      <td>279720</td>\n",
       "      <td>damn</td>\n",
       "      <td>0.000804</td>\n",
       "    </tr>\n",
       "    <tr>\n",
       "      <th>1091</th>\n",
       "      <td>chris-brown</td>\n",
       "      <td>279720</td>\n",
       "      <td>fuck</td>\n",
       "      <td>0.002932</td>\n",
       "    </tr>\n",
       "    <tr>\n",
       "      <th>3271</th>\n",
       "      <td>chris-brown</td>\n",
       "      <td>279720</td>\n",
       "      <td>nigga</td>\n",
       "      <td>0.003983</td>\n",
       "    </tr>\n",
       "    <tr>\n",
       "      <th>4361</th>\n",
       "      <td>chris-brown</td>\n",
       "      <td>279720</td>\n",
       "      <td>shit</td>\n",
       "      <td>0.002059</td>\n",
       "    </tr>\n",
       "  </tbody>\n",
       "</table>\n",
       "</div>"
      ],
      "text/plain": [
       "           artist  word_count  curse      rate\n",
       "0          eminem      423053  bitch  0.002704\n",
       "2180       eminem      423053   damn  0.000813\n",
       "1090       eminem      423053   fuck  0.007592\n",
       "3270       eminem      423053  nigga  0.001789\n",
       "4360       eminem      423053   shit  0.004338\n",
       "1     chris-brown      279720  bitch  0.002456\n",
       "2181  chris-brown      279720   damn  0.000804\n",
       "1091  chris-brown      279720   fuck  0.002932\n",
       "3271  chris-brown      279720  nigga  0.003983\n",
       "4361  chris-brown      279720   shit  0.002059"
      ]
     },
     "execution_count": 39,
     "metadata": {},
     "output_type": "execute_result"
    }
   ],
   "source": [
    "rap_curses_long = rap_curses.drop(['genre'], axis=1)\\\n",
    "    .melt(id_vars=['artist', 'word_count'], var_name='curse', value_name='rate')\\\n",
    "    .sort_values(['word_count', 'curse'], ascending=[False, True])\n",
    "rap_curses_long.head(10)"
   ]
  },
  {
   "cell_type": "code",
   "execution_count": 51,
   "metadata": {},
   "outputs": [
    {
     "data": {
      "image/png": "[encoded data removed]",
      "text/plain": [
       "<Figure size 1440x360 with 5 Axes>"
      ]
     },
     "metadata": {},
     "output_type": "display_data"
    }
   ],
   "source": [
    "rappers = ['eminem', '2pac', 'ghostface-killah', 'future', 'e-40']\n",
    "rapper_df = rap_curses_long.loc[rap_curses_long.artist.isin(rappers),:]\n",
    "\n",
    "sns.factorplot('rate', 'artist', col='curse', data=rapper_df, kind='bar',sharex=False, size=5, aspect=0.8)\n",
    "plt.savefig('rappers_cursing.png')"
   ]
  },
  {
   "cell_type": "code",
   "execution_count": null,
   "metadata": {},
   "outputs": [],
   "source": []
  }
 ],
 "metadata": {
  "kernelspec": {
   "display_name": "Python 3",
   "language": "python",
   "name": "python3"
  },
  "language_info": {
   "codemirror_mode": {
    "name": "ipython",
    "version": 3
   },
   "file_extension": ".py",
   "mimetype": "text/x-python",
   "name": "python",
   "nbconvert_exporter": "python",
   "pygments_lexer": "ipython3",
   "version": "3.6.0"
  }
 },
 "nbformat": 4,
 "nbformat_minor": 2
}
